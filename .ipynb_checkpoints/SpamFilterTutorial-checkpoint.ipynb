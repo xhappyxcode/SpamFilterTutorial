{
 "cells": [
  {
   "cell_type": "markdown",
   "metadata": {},
   "source": [
    "# Spam Filter Tutorial"
   ]
  },
  {
   "cell_type": "markdown",
   "metadata": {},
   "source": [
    "Access files by folder"
   ]
  },
  {
   "cell_type": "code",
   "execution_count": 55,
   "metadata": {
    "collapsed": true
   },
   "outputs": [],
   "source": [
    "import os, glob\n",
    "path = \"emails/bare/part1\"\n",
    "# os.path = returns current directory\n",
    "path = os.path.join(os.getcwd(), path)"
   ]
  },
  {
   "cell_type": "markdown",
   "metadata": {},
   "source": [
    "Create a word bag containing the words used and their frequency for both spam and legitimate messages."
   ]
  },
  {
   "cell_type": "code",
   "execution_count": null,
   "metadata": {
    "collapsed": true
   },
   "outputs": [],
   "source": [
    "class trainingSet:\n",
    "    '''represents an email'''\n",
    "    def __init__(self):\n",
    "        self.words = []\n",
    "    def openFile(self, filePath, classType):    \n",
    "        '''open file and set words'''\n",
    "        with open(filePath) as myFile:\n",
    "            data = myFile.readlines()\n",
    "            for line in data:\n",
    "                words = line.split()\n",
    "                uniqueWords = set(words)\n",
    "# add unique words to list [word, countM, countS]\n",
    "                tempWordList = []\n",
    "                for sword in self.words:\n",
    "                    tempWordList.append(sword[0])\n",
    "                for uword in uniqueWords: \n",
    "                    if(not(uword in tempWordList)):\n",
    "                        temp = [uword, 0, 0]\n",
    "                        self.words.append(temp)\n",
    "# count the number of instances of each word in message\n",
    "                for word in words:\n",
    "                    for sword in self.words:\n",
    "                        if(sword[0]==word):\n",
    "                            if(classType == 'message'):\n",
    "                                sword[1] += 1;\n",
    "                            else:\n",
    "                                sword[2] += 1;\n",
    "                "
   ]
  },
  {
   "cell_type": "markdown",
   "metadata": {},
   "source": [
    "Segregate spam from legitimate message. Read each file and count the number of instances of words in spam and count."
   ]
  },
  {
   "cell_type": "code",
   "execution_count": null,
   "metadata": {
    "collapsed": true
   },
   "outputs": [],
   "source": [
    "# segregate spam from legitimate message\n",
    "trainSet = trainingSet()\n",
    "for filePath in glob.glob(os.path.join(path, '*.txt')):\n",
    "    if('spmsga' in filePath):\n",
    "        trainSet.openFile(filePath, 'spam')\n",
    "    else:\n",
    "        trainSet.openFile(filePath, 'message')"
   ]
  },
  {
   "cell_type": "markdown",
   "metadata": {},
   "source": [
    "Print the contents of the word bag."
   ]
  },
  {
   "cell_type": "code",
   "execution_count": null,
   "metadata": {
    "collapsed": false
   },
   "outputs": [],
   "source": [
    "for word in trainSet.words:\n",
    "    print(word)"
   ]
  },
  {
   "cell_type": "code",
   "execution_count": null,
   "metadata": {
    "collapsed": false
   },
   "outputs": [],
   "source": [
    "class testFile:\n",
    "    def __init__(self):\n",
    "        self.words=[]\n",
    "        self.message = 'unread'\n",
    "        self.classType = 'unclassified';\n",
    "    def openFile(self, filePath, classType):\n",
    "        '''open file and set words'''\n",
    "        self.classType = classType\n",
    "        with open(filePath) as myFile:\n",
    "            self.message = myFile.read()\n",
    "    def useWordBag(self, wordBag):\n",
    "        '''using the wordBag determine which words were used or not'''\n",
    "        for tempWord in wordBag:\n",
    "            word = tempWord[0]\n",
    "            if word in self.message:\n",
    "                setWord = [word, 1]\n",
    "            else:\n",
    "                setWord = [word, 0]\n",
    "            self.words.append(setWord)\n",
    "    "
   ]
  },
  {
   "cell_type": "markdown",
   "metadata": {
    "collapsed": true
   },
   "source": [
    "Read testing set and using the word bag determine which words are present in the email."
   ]
  },
  {
   "cell_type": "code",
   "execution_count": null,
   "metadata": {
    "collapsed": false
   },
   "outputs": [],
   "source": [
    "\n",
    "path = \"emails/bare/part2\"\n",
    "path = os.path.join(os.getcwd(), path)\n",
    "\n",
    "testSet = []\n",
    "for filePath in glob.glob(os.path.join(path, '*.txt')):\n",
    "    testF = testFile()\n",
    "    testSet.append(testF)\n",
    "    if('spmsga' in filePath):\n",
    "        testF.openFile(filename, 'spam')\n",
    "    else:\n",
    "        testF.openFile(filename, 'message')\n",
    "    testF.useWordBag(trainSet.words)\n",
    "    \n",
    "for testfile in testSet:\n",
    "    print(testfile.classType)\n",
    "    print(testfile.words)\n",
    "\n",
    "# testSet = testFile()\n",
    "# tempFileSet = glob.glob(os.path.join(path, '*.txt'))\n",
    "# filename = tempFileSet[0]\n",
    "# if('spmsga' in filename):\n",
    "#     testSet.openFile(filename, 'spam')\n",
    "# else:\n",
    "#     testSet.openFile(filename, 'message')\n",
    "    \n",
    "# print(testSet.message)\n",
    "# testSet.useWordBag(trainSet.words)\n",
    "# for word in testSet.words:\n",
    "#     print(word)"
   ]
  },
  {
   "cell_type": "code",
   "execution_count": null,
   "metadata": {
    "collapsed": true
   },
   "outputs": [],
   "source": []
  }
 ],
 "metadata": {
  "anaconda-cloud": {},
  "kernelspec": {
   "display_name": "Python [Root]",
   "language": "python",
   "name": "Python [Root]"
  },
  "language_info": {
   "codemirror_mode": {
    "name": "ipython",
    "version": 2
   },
   "file_extension": ".py",
   "mimetype": "text/x-python",
   "name": "python",
   "nbconvert_exporter": "python",
   "pygments_lexer": "ipython2",
   "version": "2.7.12"
  }
 },
 "nbformat": 4,
 "nbformat_minor": 0
}
