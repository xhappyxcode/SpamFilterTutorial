{
 "cells": [
  {
   "cell_type": "markdown",
   "metadata": {},
   "source": [
    "# Spam Filter Tutorial"
   ]
  },
  {
   "cell_type": "markdown",
   "metadata": {},
   "source": [
    "Access files by folder"
   ]
  },
  {
   "cell_type": "code",
   "execution_count": 40,
   "metadata": {
    "collapsed": false
   },
   "outputs": [],
   "source": [
    "import os, glob\n",
    "path = \"emails/bare/part1\"\n",
    "# os.path = returns current directory\n",
    "path = os.path.join(os.getcwd(), path)\n"
   ]
  },
  {
   "cell_type": "markdown",
   "metadata": {},
   "source": [
    "Create a word bag containing the words used and their frequency for both spam and legitimate messages."
   ]
  },
  {
   "cell_type": "code",
   "execution_count": 41,
   "metadata": {
    "collapsed": false
   },
   "outputs": [],
   "source": [
    "class trainingSet:\n",
    "    '''represents an email'''\n",
    "    def __init__(self):\n",
    "        self.words = []\n",
    "    def openFile(self, fileName, classType):    \n",
    "        '''open file and set words'''\n",
    "        with open(fileName) as myFile:\n",
    "            data = myFile.readlines()\n",
    "            for line in data:\n",
    "                words = line.split()\n",
    "                uniqueWords = set(words)\n",
    "# add unique words to list [word, countM, countS]\n",
    "                tempWordList = []\n",
    "                for sword in self.words:\n",
    "                    tempWordList.append(sword[0])\n",
    "                for uword in uniqueWords: \n",
    "                    if(not(uword in tempWordList)):\n",
    "                        temp = [uword, 0, 0]\n",
    "                        self.words.append(temp)\n",
    "# count the number of instances of each word in message\n",
    "                for word in words:\n",
    "                    for sword in self.words:\n",
    "                        if(sword[0]==word):\n",
    "                            if(classType == 'message'):\n",
    "                                sword[1] += 1;\n",
    "                            else:\n",
    "                                sword[2] += 1;\n",
    "                "
   ]
  },
  {
   "cell_type": "markdown",
   "metadata": {},
   "source": [
    "Segregate spam from legitimate message. Read each file and count the number of instances of words in spam and count."
   ]
  },
  {
   "cell_type": "code",
   "execution_count": 42,
   "metadata": {
    "collapsed": false
   },
   "outputs": [],
   "source": [
    "# segregate spam from legitimate message\n",
    "trainSet = trainingSet()\n",
    "for filePath in glob.glob(os.path.join(path, '*.txt')):\n",
    "    if('spmsga' in filePath):\n",
    "        trainSet.openFile(filename, 'spam')\n",
    "    else:\n",
    "        trainSet.openFile(filename, 'message')\n",
    "        "
   ]
  },
  {
   "cell_type": "markdown",
   "metadata": {},
   "source": [
    "Print the contents of the word bag."
   ]
  },
  {
   "cell_type": "code",
   "execution_count": 43,
   "metadata": {
    "collapsed": false,
    "scrolled": true
   },
   "outputs": [
    {
     "name": "stdout",
     "output_type": "stream",
     "text": [
      "['Subject:', 241, 48]\n",
      "['advertisement', 241, 48]\n",
      "['saying', 241, 48]\n",
      "['all', 723, 144]\n",
      "['help', 241, 48]\n",
      "['proposed', 241, 48]\n",
      "['attempts', 241, 48]\n",
      "[',', 241, 48]\n",
      "['to', 1687, 336]\n",
      "['under', 241, 48]\n",
      "['mail', 241, 48]\n",
      "['include', 241, 48]\n",
      "['merchant', 241, 48]\n",
      "['then', 482, 96]\n",
      "['good', 241, 48]\n",
      "['get', 241, 48]\n",
      "['outlined', 241, 48]\n",
      "['aforementioned', 241, 48]\n",
      "['immediately', 241, 48]\n",
      "['like', 241, 48]\n",
      "['murkowski', 241, 48]\n",
      "['list', 241, 48]\n",
      "['remove', 723, 144]\n",
      "['try', 241, 48]\n",
      "['stopped', 241, 48]\n",
      "['each', 241, 48]\n",
      "['where', 241, 48]\n",
      "['www', 241, 48]\n",
      "['honored', 241, 48]\n",
      "['deal', 241, 48]\n",
      "['hard', 241, 48]\n",
      "['see', 241, 48]\n",
      "['cost', 241, 48]\n",
      "['are', 482, 96]\n",
      "['further', 482, 96]\n",
      "['subject', 241, 48]\n",
      "['for', 723, 144]\n",
      "['federal', 241, 48]\n",
      "['avoid', 241, 48]\n",
      "['please', 241, 48]\n",
      "['/', 723, 144]\n",
      "['state', 241, 48]\n",
      "['reply', 241, 48]\n",
      "['receiving', 241, 48]\n",
      "['email', 723, 144]\n",
      "['be', 482, 96]\n",
      "['we', 964, 192]\n",
      "['do', 241, 48]\n",
      "['mailings', 482, 96]\n",
      "['commercial', 241, 48]\n",
      "['address', 241, 48]\n",
      "['by', 482, 96]\n",
      "['card', 723, 144]\n",
      "['sending', 241, 48]\n",
      "['search', 241, 48]\n",
      "['would', 241, 48]\n",
      "['receive', 241, 48]\n",
      "['of', 241, 48]\n",
      "['http', 241, 48]\n",
      "['credit', 482, 96]\n",
      "['requests', 482, 96]\n",
      "['browser', 241, 48]\n",
      "['com', 241, 48]\n",
      "['or', 482, 96]\n",
      "['addresses', 241, 48]\n",
      "['point', 241, 48]\n",
      "['complies', 241, 48]\n",
      "['accounts', 241, 48]\n",
      "['cancel', 241, 48]\n",
      "['message', 241, 48]\n",
      "['your', 1205, 240]\n",
      "['from', 241, 48]\n",
      "['additional', 241, 48]\n",
      "['service', 241, 48]\n",
      "['.', 2651, 528]\n",
      "['anyone', 241, 48]\n",
      "['creditime', 241, 48]\n",
      "[':', 482, 96]\n",
      "['type', 241, 48]\n",
      "['on', 964, 192]\n",
      "['else', 241, 48]\n",
      "['with', 723, 144]\n",
      "['must', 241, 48]\n",
      "['town', 241, 48]\n",
      "['places', 241, 48]\n",
      "['this', 482, 96]\n",
      "['bill', 241, 48]\n",
      "['us', 482, 96]\n",
      "['will', 723, 144]\n",
      "['can', 241, 48]\n",
      "['~', 16870, 3360]\n",
      "['and', 482, 96]\n",
      "['give', 482, 96]\n",
      "['process', 241, 48]\n",
      "['is', 241, 48]\n",
      "['states', 241, 48]\n",
      "['as', 482, 96]\n",
      "['at', 482, 96]\n",
      "['have', 482, 96]\n",
      "['in', 241, 48]\n",
      "['any', 241, 48]\n",
      "['if', 241, 48]\n",
      "['result', 241, 48]\n",
      "['information', 482, 96]\n",
      "['united', 241, 48]\n",
      "['requirements', 241, 48]\n",
      "['no', 241, 48]\n",
      "['that', 241, 48]\n",
      "['-', 241, 48]\n",
      "['finding', 241, 48]\n",
      "['haveing', 241, 48]\n",
      "['you', 2169, 432]\n",
      "[\"'s\", 241, 48]\n",
      "['may', 241, 48]\n",
      "['hand', 241, 48]\n",
      "['a', 1687, 336]\n",
      "['e', 241, 48]\n",
      "['maybe', 241, 48]\n",
      "['so', 482, 96]\n",
      "['time', 241, 48]\n",
      "['inability', 241, 48]\n",
      "['the', 1205, 240]\n",
      "['starting', 241, 48]\n"
     ]
    }
   ],
   "source": [
    "for word in trainSet.words:\n",
    "    print(word)"
   ]
  },
  {
   "cell_type": "code",
   "execution_count": null,
   "metadata": {
    "collapsed": true
   },
   "outputs": [],
   "source": []
  }
 ],
 "metadata": {
  "anaconda-cloud": {},
  "kernelspec": {
   "display_name": "Python [Root]",
   "language": "python",
   "name": "Python [Root]"
  },
  "language_info": {
   "codemirror_mode": {
    "name": "ipython",
    "version": 2
   },
   "file_extension": ".py",
   "mimetype": "text/x-python",
   "name": "python",
   "nbconvert_exporter": "python",
   "pygments_lexer": "ipython2",
   "version": "2.7.12"
  }
 },
 "nbformat": 4,
 "nbformat_minor": 0
}
